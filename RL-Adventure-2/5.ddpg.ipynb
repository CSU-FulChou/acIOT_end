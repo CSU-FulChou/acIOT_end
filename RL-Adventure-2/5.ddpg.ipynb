{
 "cells": [
  {
   "cell_type": "code",
   "execution_count": 25,
   "metadata": {},
   "outputs": [],
   "source": [
    "import math\n",
    "import random\n",
    "\n",
    "import gym\n",
    "import numpy as np\n",
    "\n",
    "import torch\n",
    "import torch.nn as nn\n",
    "import torch.optim as optim\n",
    "import torch.nn.functional as F\n",
    "from torch.distributions import Normal"
   ]
  },
  {
   "cell_type": "code",
   "execution_count": 27,
   "metadata": {},
   "outputs": [],
   "source": [
    "from IPython.display import clear_output\n",
    "import matplotlib.pyplot as plt\n",
    "%matplotlib inline"
   ]
  },
  {
   "cell_type": "markdown",
   "metadata": {},
   "source": [
    "<h2>Use CUDA</h2>"
   ]
  },
  {
   "cell_type": "code",
   "execution_count": 28,
   "metadata": {},
   "outputs": [],
   "source": [
    "use_cuda = torch.cuda.is_available()\n",
    "device   = torch.device(\"cuda\" if use_cuda else \"cpu\")"
   ]
  },
  {
   "cell_type": "markdown",
   "metadata": {},
   "source": [
    "<h2>Replay Buffer</h2>"
   ]
  },
  {
   "cell_type": "code",
   "execution_count": 29,
   "metadata": {},
   "outputs": [],
   "source": [
    "class ReplayBuffer:\n",
    "    def __init__(self, capacity):\n",
    "        self.capacity = capacity\n",
    "        self.buffer = []\n",
    "        self.position = 0\n",
    "    \n",
    "    def push(self, state, action, reward, next_state, done):\n",
    "        if len(self.buffer) < self.capacity:\n",
    "            self.buffer.append(None)\n",
    "        self.buffer[self.position] = (state, action, reward, next_state, done)\n",
    "        self.position = (self.position + 1) % self.capacity\n",
    "    \n",
    "    def sample(self, batch_size):\n",
    "        batch = random.sample(self.buffer, batch_size)\n",
    "        state, action, reward, next_state, done = map(np.stack, zip(*batch))\n",
    "        return state, action, reward, next_state, done\n",
    "    \n",
    "    def __len__(self):\n",
    "        return len(self.buffer)"
   ]
  },
  {
   "cell_type": "markdown",
   "metadata": {},
   "source": [
    "<h2>Normalize action space</h2>"
   ]
  },
  {
   "cell_type": "code",
   "execution_count": 30,
   "metadata": {},
   "outputs": [],
   "source": [
    "class NormalizedActions(gym.ActionWrapper):\n",
    "\n",
    "    def action(self, action):\n",
    "        low_bound   = self.action_space.low\n",
    "        upper_bound = self.action_space.high\n",
    "        \n",
    "        action = low_bound + (action + 1.0) * 0.5 * (upper_bound - low_bound)\n",
    "        action = np.clip(action, low_bound, upper_bound)\n",
    "        \n",
    "        return action\n",
    "\n",
    "    def reverse_action(self, action):\n",
    "        low_bound   = self.action_space.low\n",
    "        upper_bound = self.action_space.high\n",
    "        \n",
    "        action = 2 * (action - low_bound) / (upper_bound - low_bound) - 1\n",
    "        action = np.clip(action, low_bound, upper_bound)\n",
    "        \n",
    "        return actions"
   ]
  },
  {
   "cell_type": "markdown",
   "metadata": {},
   "source": [
    "<h2>Ornstein-Uhlenbeck process</h2>\n",
    "Adding time-correlated noise to the actions taken by the deterministic policy<br>\n",
    "<a href=\"https://en.wikipedia.org/wiki/Ornstein%E2%80%93Uhlenbeck_process\">wiki</a>"
   ]
  },
  {
   "cell_type": "code",
   "execution_count": 31,
   "metadata": {},
   "outputs": [],
   "source": [
    "class OUNoise(object):\n",
    "    def __init__(self, action_space, mu=0.0, theta=0.15, max_sigma=0.3, min_sigma=0.3, decay_period=100000):\n",
    "        self.mu           = mu\n",
    "        self.theta        = theta\n",
    "        self.sigma        = max_sigma\n",
    "        self.max_sigma    = max_sigma\n",
    "        self.min_sigma    = min_sigma\n",
    "        self.decay_period = decay_period\n",
    "        self.action_dim   = action_space.shape[0]\n",
    "        self.low          = action_space.low\n",
    "        self.high         = action_space.high\n",
    "        self.reset()\n",
    "        \n",
    "    def reset(self):\n",
    "        self.state = np.ones(self.action_dim) * self.mu\n",
    "        \n",
    "    def evolve_state(self):\n",
    "        x  = self.state\n",
    "        dx = self.theta * (self.mu - x) + self.sigma * np.random.randn(self.action_dim)\n",
    "        self.state = x + dx\n",
    "        return self.state\n",
    "    \n",
    "    def get_action(self, action, t=0):\n",
    "        ou_state = self.evolve_state()\n",
    "        self.sigma = self.max_sigma - (self.max_sigma - self.min_sigma) * min(1.0, t / self.decay_period)\n",
    "        return np.clip(action + ou_state, self.low, self.high)\n",
    "    \n",
    "#https://github.com/vitchyr/rlkit/blob/master/rlkit/exploration_strategies/ou_strategy.py"
   ]
  },
  {
   "cell_type": "code",
   "execution_count": 32,
   "metadata": {},
   "outputs": [],
   "source": [
    "def plot(frame_idx, rewards):\n",
    "    clear_output(True)\n",
    "    plt.figure(figsize=(20,5))\n",
    "    plt.subplot(131)\n",
    "    plt.title('frame %s. reward: %s' % (frame_idx, rewards[-1]))\n",
    "    plt.plot(rewards)\n",
    "    plt.show()"
   ]
  },
  {
   "cell_type": "markdown",
   "metadata": {},
   "source": [
    "<h1> Continuous control with deep reinforcement learning</h1>\n",
    "<h2><a href=\"https://arxiv.org/abs/1509.02971\">Arxiv</a></h2>"
   ]
  },
  {
   "cell_type": "code",
   "execution_count": 33,
   "metadata": {},
   "outputs": [],
   "source": [
    "class ValueNetwork(nn.Module):\n",
    "    def __init__(self, num_inputs, num_actions, hidden_size, init_w=3e-3):\n",
    "        super(ValueNetwork, self).__init__()\n",
    "        \n",
    "        self.linear1 = nn.Linear(num_inputs + num_actions, hidden_size)\n",
    "        self.linear2 = nn.Linear(hidden_size, hidden_size)\n",
    "        self.linear3 = nn.Linear(hidden_size, 1)\n",
    "        \n",
    "        self.linear3.weight.data.uniform_(-init_w, init_w)\n",
    "        self.linear3.bias.data.uniform_(-init_w, init_w)\n",
    "        \n",
    "    def forward(self, state, action):\n",
    "        x = torch.cat([state, action], 1)\n",
    "        x = F.relu(self.linear1(x))\n",
    "        x = F.relu(self.linear2(x))\n",
    "        x = self.linear3(x)\n",
    "        return x\n",
    "    \n",
    "\n",
    "class PolicyNetwork(nn.Module):\n",
    "    def __init__(self, num_inputs, num_actions, hidden_size, init_w=3e-3):\n",
    "        super(PolicyNetwork, self).__init__()\n",
    "        \n",
    "        self.linear1 = nn.Linear(num_inputs, hidden_size)\n",
    "        self.linear2 = nn.Linear(hidden_size, hidden_size)\n",
    "        self.linear3 = nn.Linear(hidden_size, num_actions)\n",
    "        \n",
    "        self.linear3.weight.data.uniform_(-init_w, init_w)\n",
    "        self.linear3.bias.data.uniform_(-init_w, init_w)\n",
    "        \n",
    "    def forward(self, state):\n",
    "        x = F.relu(self.linear1(state))\n",
    "        x = F.relu(self.linear2(x))\n",
    "        x = F.tanh(self.linear3(x))\n",
    "        return x\n",
    "    \n",
    "    def get_action(self, state):\n",
    "        state  = torch.FloatTensor(state).unsqueeze(0).to(device)\n",
    "        action = self.forward(state)\n",
    "        return action.detach().cpu().numpy()[0, 0]"
   ]
  },
  {
   "cell_type": "markdown",
   "metadata": {},
   "source": [
    "<h2>DDPG Update</h2>"
   ]
  },
  {
   "cell_type": "code",
   "execution_count": 34,
   "metadata": {},
   "outputs": [],
   "source": [
    "def ddpg_update(batch_size, \n",
    "           gamma = 0.99,\n",
    "           min_value=-np.inf,\n",
    "           max_value=np.inf,\n",
    "           soft_tau=1e-2):\n",
    "    \n",
    "    state, action, reward, next_state, done = replay_buffer.sample(batch_size)\n",
    "    \n",
    "    state      = torch.FloatTensor(state).to(device)\n",
    "    next_state = torch.FloatTensor(next_state).to(device)\n",
    "    action     = torch.FloatTensor(action).to(device)\n",
    "    reward     = torch.FloatTensor(reward).unsqueeze(1).to(device)\n",
    "    done       = torch.FloatTensor(np.float32(done)).unsqueeze(1).to(device)\n",
    "\n",
    "    policy_loss = value_net(state, policy_net(state))\n",
    "    policy_loss = -policy_loss.mean()\n",
    "\n",
    "    next_action    = target_policy_net(next_state)\n",
    "    target_value   = target_value_net(next_state, next_action.detach())\n",
    "    expected_value = reward + (1.0 - done) * gamma * target_value\n",
    "    expected_value = torch.clamp(expected_value, min_value, max_value)\n",
    "\n",
    "    value = value_net(state, action)\n",
    "    value_loss = value_criterion(value, expected_value.detach())\n",
    "\n",
    "\n",
    "    policy_optimizer.zero_grad()\n",
    "    policy_loss.backward()\n",
    "    policy_optimizer.step()\n",
    "\n",
    "    value_optimizer.zero_grad()\n",
    "    value_loss.backward()\n",
    "    value_optimizer.step()\n",
    "\n",
    "    for target_param, param in zip(target_value_net.parameters(), value_net.parameters()):\n",
    "            target_param.data.copy_(\n",
    "                target_param.data * (1.0 - soft_tau) + param.data * soft_tau\n",
    "            )\n",
    "\n",
    "    for target_param, param in zip(target_policy_net.parameters(), policy_net.parameters()):\n",
    "            target_param.data.copy_(\n",
    "                target_param.data * (1.0 - soft_tau) + param.data * soft_tau\n",
    "            )"
   ]
  },
  {
   "cell_type": "code",
   "execution_count": 35,
   "metadata": {},
   "outputs": [],
   "source": [
    "env = NormalizedActions(gym.make(\"Pendulum-v0\"))\n",
    "ou_noise = OUNoise(env.action_space)\n",
    "\n",
    "state_dim  = env.observation_space.shape[0]\n",
    "action_dim = env.action_space.shape[0]\n",
    "hidden_dim = 256\n",
    "\n",
    "value_net  = ValueNetwork(state_dim, action_dim, hidden_dim).to(device)\n",
    "policy_net = PolicyNetwork(state_dim, action_dim, hidden_dim).to(device)\n",
    "\n",
    "target_value_net  = ValueNetwork(state_dim, action_dim, hidden_dim).to(device)\n",
    "target_policy_net = PolicyNetwork(state_dim, action_dim, hidden_dim).to(device)\n",
    "\n",
    "for target_param, param in zip(target_value_net.parameters(), value_net.parameters()):\n",
    "    target_param.data.copy_(param.data)\n",
    "\n",
    "for target_param, param in zip(target_policy_net.parameters(), policy_net.parameters()):\n",
    "    target_param.data.copy_(param.data)\n",
    "    \n",
    "    \n",
    "value_lr  = 1e-3\n",
    "policy_lr = 1e-4\n",
    "\n",
    "value_optimizer  = optim.Adam(value_net.parameters(),  lr=value_lr)\n",
    "policy_optimizer = optim.Adam(policy_net.parameters(), lr=policy_lr)\n",
    "\n",
    "value_criterion = nn.MSELoss()\n",
    "\n",
    "replay_buffer_size = 1000000\n",
    "replay_buffer = ReplayBuffer(replay_buffer_size)"
   ]
  },
  {
   "cell_type": "code",
   "execution_count": 36,
   "metadata": {},
   "outputs": [],
   "source": [
    "max_frames  = 12000\n",
    "max_steps   = 500\n",
    "frame_idx   = 0\n",
    "rewards     = []\n",
    "batch_size  = 128"
   ]
  },
  {
   "cell_type": "code",
   "execution_count": 37,
   "metadata": {},
   "outputs": [
    {
     "output_type": "display_data",
     "data": {
      "text/plain": "<Figure size 1440x360 with 1 Axes>",
      "image/svg+xml": "<?xml version=\"1.0\" encoding=\"utf-8\" standalone=\"no\"?>\n<!DOCTYPE svg PUBLIC \"-//W3C//DTD SVG 1.1//EN\"\n  \"http://www.w3.org/Graphics/SVG/1.1/DTD/svg11.dtd\">\n<!-- Created with matplotlib (https://matplotlib.org/) -->\n<svg height=\"315.528125pt\" version=\"1.1\" viewBox=\"0 0 375.005016 315.528125\" width=\"375.005016pt\" xmlns=\"http://www.w3.org/2000/svg\" xmlns:xlink=\"http://www.w3.org/1999/xlink\">\n <metadata>\n  <rdf:RDF xmlns:cc=\"http://creativecommons.org/ns#\" xmlns:dc=\"http://purl.org/dc/elements/1.1/\" xmlns:rdf=\"http://www.w3.org/1999/02/22-rdf-syntax-ns#\">\n   <cc:Work>\n    <dc:type rdf:resource=\"http://purl.org/dc/dcmitype/StillImage\"/>\n    <dc:date>2021-05-16T22:16:19.193287</dc:date>\n    <dc:format>image/svg+xml</dc:format>\n    <dc:creator>\n     <cc:Agent>\n      <dc:title>Matplotlib v3.3.2, https://matplotlib.org/</dc:title>\n     </cc:Agent>\n    </dc:creator>\n   </cc:Work>\n  </rdf:RDF>\n </metadata>\n <defs>\n  <style type=\"text/css\">*{stroke-linecap:butt;stroke-linejoin:round;}</style>\n </defs>\n <g id=\"figure_1\">\n  <g id=\"patch_1\">\n   <path d=\"M 0 315.528125 \nL 375.005016 315.528125 \nL 375.005016 0 \nL 0 0 \nz\n\" style=\"fill:none;\"/>\n  </g>\n  <g id=\"axes_1\">\n   <g id=\"patch_2\">\n    <path d=\"M 39.2 293.203125 \nL 367.435294 293.203125 \nL 367.435294 21.403125 \nL 39.2 21.403125 \nz\n\" style=\"fill:#ffffff;\"/>\n   </g>\n   <g id=\"matplotlib.axis_1\">\n    <g id=\"xtick_1\">\n     <g id=\"line2d_1\">\n      <defs>\n       <path d=\"M 0 0 \nL 0 3.5 \n\" id=\"m926c4fff57\" style=\"stroke:#000000;stroke-width:0.8;\"/>\n      </defs>\n      <g>\n       <use style=\"stroke:#000000;stroke-width:0.8;\" x=\"54.119786\" xlink:href=\"#m926c4fff57\" y=\"293.203125\"/>\n      </g>\n     </g>\n     <g id=\"text_1\">\n      <!-- 0 -->\n      <g transform=\"translate(51.619786 307.039062)scale(0.1 -0.1)\">\n       <defs>\n        <path d=\"M 46.484375 35.15625 \nQ 46.484375 21.09375 41.40625 10.9375 \nQ 36.328125 0.78125 25 0.78125 \nQ 13.671875 0.78125 8.390625 10.9375 \nQ 3.125 21.09375 3.125 35.15625 \nQ 3.125 49.21875 8.390625 59.171875 \nQ 13.671875 69.140625 25 69.140625 \nQ 36.328125 69.140625 41.40625 59.171875 \nQ 46.484375 49.21875 46.484375 35.15625 \nz\nM 37.109375 35.15625 \nQ 37.109375 47.65625 34.171875 54.6875 \nQ 31.25 61.71875 25 61.71875 \nQ 18.75 61.71875 15.625 54.6875 \nQ 12.5 47.65625 12.5 35.15625 \nQ 12.5 22.65625 15.625 15.421875 \nQ 18.75 8.203125 25 8.203125 \nQ 31.25 8.203125 34.171875 15.421875 \nQ 37.109375 22.65625 37.109375 35.15625 \nz\n\" id=\"SimHei-48\"/>\n       </defs>\n       <use xlink:href=\"#SimHei-48\"/>\n      </g>\n     </g>\n    </g>\n    <g id=\"xtick_2\">\n     <g id=\"line2d_2\">\n      <g>\n       <use style=\"stroke:#000000;stroke-width:0.8;\" x=\"105.567324\" xlink:href=\"#m926c4fff57\" y=\"293.203125\"/>\n      </g>\n     </g>\n     <g id=\"text_2\">\n      <!-- 10 -->\n      <g transform=\"translate(100.567324 307.039062)scale(0.1 -0.1)\">\n       <defs>\n        <path d=\"M 30.46875 1.5625 \nL 21.484375 1.5625 \nL 21.484375 53.515625 \nL 9.765625 53.515625 \nL 9.765625 58.203125 \nQ 16.796875 58.203125 20.703125 60.9375 \nQ 24.609375 63.671875 25.78125 69.140625 \nL 30.46875 69.140625 \nz\n\" id=\"SimHei-49\"/>\n       </defs>\n       <use xlink:href=\"#SimHei-49\"/>\n       <use x=\"50\" xlink:href=\"#SimHei-48\"/>\n      </g>\n     </g>\n    </g>\n    <g id=\"xtick_3\">\n     <g id=\"line2d_3\">\n      <g>\n       <use style=\"stroke:#000000;stroke-width:0.8;\" x=\"157.014863\" xlink:href=\"#m926c4fff57\" y=\"293.203125\"/>\n      </g>\n     </g>\n     <g id=\"text_3\">\n      <!-- 20 -->\n      <g transform=\"translate(152.014863 307.039062)scale(0.1 -0.1)\">\n       <defs>\n        <path d=\"M 44.53125 1.5625 \nL 4.6875 1.5625 \nL 4.6875 7.8125 \nQ 7.03125 14.0625 11.125 19.328125 \nQ 15.234375 24.609375 23.046875 31.25 \nQ 28.90625 36.328125 31.4375 40.625 \nQ 33.984375 44.921875 33.984375 50 \nQ 33.984375 55.078125 31.828125 58.390625 \nQ 29.6875 61.71875 25 61.71875 \nQ 21.09375 61.71875 18.15625 58.203125 \nQ 15.234375 54.6875 15.234375 45.703125 \nL 6.25 45.703125 \nQ 6.640625 57.03125 11.515625 63.078125 \nQ 16.40625 69.140625 25.390625 69.140625 \nQ 33.984375 69.140625 38.671875 63.859375 \nQ 43.359375 58.59375 43.359375 49.609375 \nQ 43.359375 42.1875 39.0625 36.71875 \nQ 34.765625 31.25 28.515625 25.78125 \nQ 21.484375 19.53125 18.75 16.40625 \nQ 16.015625 13.28125 13.671875 8.984375 \nL 44.53125 8.984375 \nz\n\" id=\"SimHei-50\"/>\n       </defs>\n       <use xlink:href=\"#SimHei-50\"/>\n       <use x=\"50\" xlink:href=\"#SimHei-48\"/>\n      </g>\n     </g>\n    </g>\n    <g id=\"xtick_4\">\n     <g id=\"line2d_4\">\n      <g>\n       <use style=\"stroke:#000000;stroke-width:0.8;\" x=\"208.462401\" xlink:href=\"#m926c4fff57\" y=\"293.203125\"/>\n      </g>\n     </g>\n     <g id=\"text_4\">\n      <!-- 30 -->\n      <g transform=\"translate(203.462401 307.039062)scale(0.1 -0.1)\">\n       <defs>\n        <path d=\"M 44.140625 20.3125 \nQ 44.140625 11.328125 38.46875 6.046875 \nQ 32.8125 0.78125 24.21875 0.78125 \nQ 15.625 0.78125 9.953125 6.046875 \nQ 4.296875 11.328125 4.296875 22.265625 \nL 13.28125 22.265625 \nQ 13.28125 14.84375 16.203125 11.515625 \nQ 19.140625 8.203125 24.21875 8.203125 \nQ 29.296875 8.203125 32.03125 11.328125 \nQ 34.765625 14.453125 34.765625 21.09375 \nQ 34.765625 26.5625 31.828125 29.6875 \nQ 28.90625 32.8125 21.484375 32.8125 \nL 21.484375 39.453125 \nQ 27.734375 39.453125 30.65625 42.578125 \nQ 33.59375 45.703125 33.59375 51.953125 \nQ 33.59375 56.640625 31.4375 59.375 \nQ 29.296875 62.109375 24.609375 62.109375 \nQ 19.921875 62.109375 17.375 58.78125 \nQ 14.84375 55.46875 14.453125 49.21875 \nL 5.859375 49.21875 \nQ 6.640625 58.203125 11.515625 63.671875 \nQ 16.40625 69.140625 24.609375 69.140625 \nQ 33.203125 69.140625 37.890625 64.25 \nQ 42.578125 59.375 42.578125 52.34375 \nQ 42.578125 45.703125 40.234375 41.984375 \nQ 37.890625 38.28125 32.421875 36.328125 \nQ 37.890625 35.15625 41.015625 30.859375 \nQ 44.140625 26.5625 44.140625 20.3125 \nz\n\" id=\"SimHei-51\"/>\n       </defs>\n       <use xlink:href=\"#SimHei-51\"/>\n       <use x=\"50\" xlink:href=\"#SimHei-48\"/>\n      </g>\n     </g>\n    </g>\n    <g id=\"xtick_5\">\n     <g id=\"line2d_5\">\n      <g>\n       <use style=\"stroke:#000000;stroke-width:0.8;\" x=\"259.909939\" xlink:href=\"#m926c4fff57\" y=\"293.203125\"/>\n      </g>\n     </g>\n     <g id=\"text_5\">\n      <!-- 40 -->\n      <g transform=\"translate(254.909939 307.039062)scale(0.1 -0.1)\">\n       <defs>\n        <path d=\"M 46.484375 18.75 \nL 38.28125 18.75 \nL 38.28125 1.5625 \nL 29.296875 1.5625 \nL 29.296875 18.75 \nL 3.125 18.75 \nL 3.125 26.171875 \nL 29.296875 69.140625 \nL 38.28125 69.140625 \nL 38.28125 26.171875 \nL 46.484375 26.171875 \nz\nM 29.296875 26.171875 \nL 29.296875 55.078125 \nL 11.71875 26.171875 \nz\n\" id=\"SimHei-52\"/>\n       </defs>\n       <use xlink:href=\"#SimHei-52\"/>\n       <use x=\"50\" xlink:href=\"#SimHei-48\"/>\n      </g>\n     </g>\n    </g>\n    <g id=\"xtick_6\">\n     <g id=\"line2d_6\">\n      <g>\n       <use style=\"stroke:#000000;stroke-width:0.8;\" x=\"311.357477\" xlink:href=\"#m926c4fff57\" y=\"293.203125\"/>\n      </g>\n     </g>\n     <g id=\"text_6\">\n      <!-- 50 -->\n      <g transform=\"translate(306.357477 307.039062)scale(0.1 -0.1)\">\n       <defs>\n        <path d=\"M 44.140625 25.78125 \nQ 44.140625 14.0625 38.46875 7.421875 \nQ 32.8125 0.78125 23.4375 0.78125 \nQ 15.234375 0.78125 9.953125 6.25 \nQ 4.6875 11.71875 4.296875 21.09375 \nL 13.28125 21.09375 \nQ 13.28125 15.234375 16.015625 11.71875 \nQ 18.75 8.203125 23.828125 8.203125 \nQ 28.90625 8.203125 31.828125 12.5 \nQ 34.765625 16.796875 34.765625 25.78125 \nQ 34.765625 33.59375 32.21875 37.296875 \nQ 29.6875 41.015625 25.390625 41.015625 \nQ 21.875 41.015625 19.328125 39.453125 \nQ 16.796875 37.890625 14.453125 33.984375 \nL 6.640625 33.984375 \nL 8.984375 68.359375 \nL 42.578125 68.359375 \nL 42.578125 60.9375 \nL 16.40625 60.9375 \nL 14.84375 42.96875 \nQ 17.1875 45.3125 19.921875 46.484375 \nQ 22.65625 47.65625 27.34375 47.65625 \nQ 34.765625 47.65625 39.453125 41.984375 \nQ 44.140625 36.328125 44.140625 25.78125 \nz\n\" id=\"SimHei-53\"/>\n       </defs>\n       <use xlink:href=\"#SimHei-53\"/>\n       <use x=\"50\" xlink:href=\"#SimHei-48\"/>\n      </g>\n     </g>\n    </g>\n    <g id=\"xtick_7\">\n     <g id=\"line2d_7\">\n      <g>\n       <use style=\"stroke:#000000;stroke-width:0.8;\" x=\"362.805016\" xlink:href=\"#m926c4fff57\" y=\"293.203125\"/>\n      </g>\n     </g>\n     <g id=\"text_7\">\n      <!-- 60 -->\n      <g transform=\"translate(357.805016 307.039062)scale(0.1 -0.1)\">\n       <defs>\n        <path d=\"M 44.53125 24.21875 \nQ 44.53125 13.28125 39.84375 7.03125 \nQ 35.15625 0.78125 25.78125 0.78125 \nQ 16.40625 0.78125 10.9375 8.59375 \nQ 5.46875 16.40625 5.46875 33.984375 \nQ 5.46875 50 11.125 59.5625 \nQ 16.796875 69.140625 27.34375 69.140625 \nQ 34.765625 69.140625 39.25 63.671875 \nQ 43.75 58.203125 43.75 51.5625 \nL 34.765625 51.5625 \nQ 34.765625 55.46875 32.609375 58.59375 \nQ 30.46875 61.71875 26.953125 61.71875 \nQ 21.09375 61.71875 17.96875 55.65625 \nQ 14.84375 49.609375 14.453125 37.109375 \nQ 17.1875 42.1875 20.3125 44.140625 \nQ 23.4375 46.09375 27.734375 46.09375 \nQ 35.15625 46.09375 39.84375 40.234375 \nQ 44.53125 34.375 44.53125 24.21875 \nz\nM 35.15625 24.21875 \nQ 35.15625 31.25 32.8125 35.15625 \nQ 30.46875 39.0625 26.171875 39.0625 \nQ 21.09375 39.0625 18.15625 35.15625 \nQ 15.234375 31.25 15.234375 25.78125 \nQ 15.234375 17.1875 18.15625 12.5 \nQ 21.09375 7.8125 26.171875 7.8125 \nQ 29.6875 7.8125 32.421875 11.328125 \nQ 35.15625 14.84375 35.15625 24.21875 \nz\n\" id=\"SimHei-54\"/>\n       </defs>\n       <use xlink:href=\"#SimHei-54\"/>\n       <use x=\"50\" xlink:href=\"#SimHei-48\"/>\n      </g>\n     </g>\n    </g>\n   </g>\n   <g id=\"matplotlib.axis_2\">\n    <g id=\"ytick_1\">\n     <g id=\"line2d_8\">\n      <defs>\n       <path d=\"M 0 0 \nL -3.5 0 \n\" id=\"m37ee07f278\" style=\"stroke:#000000;stroke-width:0.8;\"/>\n      </defs>\n      <g>\n       <use style=\"stroke:#000000;stroke-width:0.8;\" x=\"39.2\" xlink:href=\"#m37ee07f278\" y=\"266.103392\"/>\n      </g>\n     </g>\n     <g id=\"text_8\">\n      <!-- -1600 -->\n      <g transform=\"translate(7.2 269.521361)scale(0.1 -0.1)\">\n       <defs>\n        <path d=\"M 46.875 32.8125 \nL 2.34375 32.8125 \nL 2.34375 39.0625 \nL 46.875 39.0625 \nz\n\" id=\"SimHei-45\"/>\n       </defs>\n       <use xlink:href=\"#SimHei-45\"/>\n       <use x=\"50\" xlink:href=\"#SimHei-49\"/>\n       <use x=\"100\" xlink:href=\"#SimHei-54\"/>\n       <use x=\"150\" xlink:href=\"#SimHei-48\"/>\n       <use x=\"200\" xlink:href=\"#SimHei-48\"/>\n      </g>\n     </g>\n    </g>\n    <g id=\"ytick_2\">\n     <g id=\"line2d_9\">\n      <g>\n       <use style=\"stroke:#000000;stroke-width:0.8;\" x=\"39.2\" xlink:href=\"#m37ee07f278\" y=\"234.525738\"/>\n      </g>\n     </g>\n     <g id=\"text_9\">\n      <!-- -1400 -->\n      <g transform=\"translate(7.2 237.943707)scale(0.1 -0.1)\">\n       <use xlink:href=\"#SimHei-45\"/>\n       <use x=\"50\" xlink:href=\"#SimHei-49\"/>\n       <use x=\"100\" xlink:href=\"#SimHei-52\"/>\n       <use x=\"150\" xlink:href=\"#SimHei-48\"/>\n       <use x=\"200\" xlink:href=\"#SimHei-48\"/>\n      </g>\n     </g>\n    </g>\n    <g id=\"ytick_3\">\n     <g id=\"line2d_10\">\n      <g>\n       <use style=\"stroke:#000000;stroke-width:0.8;\" x=\"39.2\" xlink:href=\"#m37ee07f278\" y=\"202.948084\"/>\n      </g>\n     </g>\n     <g id=\"text_10\">\n      <!-- -1200 -->\n      <g transform=\"translate(7.2 206.366053)scale(0.1 -0.1)\">\n       <use xlink:href=\"#SimHei-45\"/>\n       <use x=\"50\" xlink:href=\"#SimHei-49\"/>\n       <use x=\"100\" xlink:href=\"#SimHei-50\"/>\n       <use x=\"150\" xlink:href=\"#SimHei-48\"/>\n       <use x=\"200\" xlink:href=\"#SimHei-48\"/>\n      </g>\n     </g>\n    </g>\n    <g id=\"ytick_4\">\n     <g id=\"line2d_11\">\n      <g>\n       <use style=\"stroke:#000000;stroke-width:0.8;\" x=\"39.2\" xlink:href=\"#m37ee07f278\" y=\"171.37043\"/>\n      </g>\n     </g>\n     <g id=\"text_11\">\n      <!-- -1000 -->\n      <g transform=\"translate(7.2 174.788399)scale(0.1 -0.1)\">\n       <use xlink:href=\"#SimHei-45\"/>\n       <use x=\"50\" xlink:href=\"#SimHei-49\"/>\n       <use x=\"100\" xlink:href=\"#SimHei-48\"/>\n       <use x=\"150\" xlink:href=\"#SimHei-48\"/>\n       <use x=\"200\" xlink:href=\"#SimHei-48\"/>\n      </g>\n     </g>\n    </g>\n    <g id=\"ytick_5\">\n     <g id=\"line2d_12\">\n      <g>\n       <use style=\"stroke:#000000;stroke-width:0.8;\" x=\"39.2\" xlink:href=\"#m37ee07f278\" y=\"139.792777\"/>\n      </g>\n     </g>\n     <g id=\"text_12\">\n      <!-- -800 -->\n      <g transform=\"translate(12.2 143.210745)scale(0.1 -0.1)\">\n       <defs>\n        <path d=\"M 44.921875 20.703125 \nQ 44.921875 10.9375 39.453125 5.859375 \nQ 33.984375 0.78125 24.609375 0.78125 \nQ 15.234375 0.78125 9.765625 5.859375 \nQ 4.296875 10.9375 4.296875 20.703125 \nQ 4.296875 25.78125 7.421875 29.875 \nQ 10.546875 33.984375 16.015625 35.9375 \nQ 11.328125 37.890625 8.78125 41.40625 \nQ 6.25 44.921875 6.25 50.390625 \nQ 6.25 58.984375 11.71875 64.0625 \nQ 17.1875 69.140625 24.609375 69.140625 \nQ 32.03125 69.140625 37.5 64.0625 \nQ 42.96875 58.984375 42.96875 50.390625 \nQ 42.96875 44.921875 40.421875 41.40625 \nQ 37.890625 37.890625 33.203125 35.9375 \nQ 38.671875 33.984375 41.796875 29.875 \nQ 44.921875 25.78125 44.921875 20.703125 \nz\nM 34.375 50.390625 \nQ 34.375 56.640625 31.640625 59.375 \nQ 28.90625 62.109375 24.609375 62.109375 \nQ 20.3125 62.109375 17.578125 59.375 \nQ 14.84375 56.640625 14.84375 50.390625 \nQ 14.84375 44.140625 17.765625 41.59375 \nQ 20.703125 39.0625 24.609375 39.0625 \nQ 28.515625 39.0625 31.4375 41.59375 \nQ 34.375 44.140625 34.375 50.390625 \nz\nM 35.9375 20.703125 \nQ 35.9375 26.171875 33 29.296875 \nQ 30.078125 32.421875 24.609375 32.421875 \nQ 19.140625 32.421875 16.203125 29.296875 \nQ 13.28125 26.171875 13.28125 20.703125 \nQ 13.28125 14.453125 16.40625 11.125 \nQ 19.53125 7.8125 24.609375 7.8125 \nQ 29.6875 7.8125 32.8125 11.125 \nQ 35.9375 14.453125 35.9375 20.703125 \nz\n\" id=\"SimHei-56\"/>\n       </defs>\n       <use xlink:href=\"#SimHei-45\"/>\n       <use x=\"50\" xlink:href=\"#SimHei-56\"/>\n       <use x=\"100\" xlink:href=\"#SimHei-48\"/>\n       <use x=\"150\" xlink:href=\"#SimHei-48\"/>\n      </g>\n     </g>\n    </g>\n    <g id=\"ytick_6\">\n     <g id=\"line2d_13\">\n      <g>\n       <use style=\"stroke:#000000;stroke-width:0.8;\" x=\"39.2\" xlink:href=\"#m37ee07f278\" y=\"108.215123\"/>\n      </g>\n     </g>\n     <g id=\"text_13\">\n      <!-- -600 -->\n      <g transform=\"translate(12.2 111.633092)scale(0.1 -0.1)\">\n       <use xlink:href=\"#SimHei-45\"/>\n       <use x=\"50\" xlink:href=\"#SimHei-54\"/>\n       <use x=\"100\" xlink:href=\"#SimHei-48\"/>\n       <use x=\"150\" xlink:href=\"#SimHei-48\"/>\n      </g>\n     </g>\n    </g>\n    <g id=\"ytick_7\">\n     <g id=\"line2d_14\">\n      <g>\n       <use style=\"stroke:#000000;stroke-width:0.8;\" x=\"39.2\" xlink:href=\"#m37ee07f278\" y=\"76.637469\"/>\n      </g>\n     </g>\n     <g id=\"text_14\">\n      <!-- -400 -->\n      <g transform=\"translate(12.2 80.055438)scale(0.1 -0.1)\">\n       <use xlink:href=\"#SimHei-45\"/>\n       <use x=\"50\" xlink:href=\"#SimHei-52\"/>\n       <use x=\"100\" xlink:href=\"#SimHei-48\"/>\n       <use x=\"150\" xlink:href=\"#SimHei-48\"/>\n      </g>\n     </g>\n    </g>\n    <g id=\"ytick_8\">\n     <g id=\"line2d_15\">\n      <g>\n       <use style=\"stroke:#000000;stroke-width:0.8;\" x=\"39.2\" xlink:href=\"#m37ee07f278\" y=\"45.059815\"/>\n      </g>\n     </g>\n     <g id=\"text_15\">\n      <!-- -200 -->\n      <g transform=\"translate(12.2 48.477784)scale(0.1 -0.1)\">\n       <use xlink:href=\"#SimHei-45\"/>\n       <use x=\"50\" xlink:href=\"#SimHei-50\"/>\n       <use x=\"100\" xlink:href=\"#SimHei-48\"/>\n       <use x=\"150\" xlink:href=\"#SimHei-48\"/>\n      </g>\n     </g>\n    </g>\n   </g>\n   <g id=\"line2d_16\">\n    <path clip-path=\"url(#p9632e29c9e)\" d=\"M 54.119786 155.988142 \nL 59.26454 280.84858 \nL 64.409294 265.029554 \nL 69.554048 252.818407 \nL 74.698801 267.295396 \nL 79.843555 276.046299 \nL 84.988309 153.567038 \nL 90.133063 190.503112 \nL 95.277817 270.548774 \nL 100.422571 149.680471 \nL 105.567324 136.327105 \nL 110.712078 158.182463 \nL 115.856832 137.273147 \nL 121.001586 110.265035 \nL 126.14634 95.206042 \nL 131.291093 112.234105 \nL 136.435847 93.802878 \nL 141.580601 74.82524 \nL 146.725355 89.222212 \nL 151.870109 112.145355 \nL 157.014863 137.463621 \nL 162.159616 88.849864 \nL 167.30437 52.498723 \nL 172.449124 73.485511 \nL 177.593878 49.755386 \nL 182.738632 73.746214 \nL 187.883386 112.664088 \nL 193.028139 92.950525 \nL 198.172893 72.394703 \nL 203.317647 33.763626 \nL 208.462401 92.622632 \nL 213.607155 71.184172 \nL 218.751909 73.494652 \nL 223.896662 33.75767 \nL 229.041416 53.542862 \nL 234.18617 53.11752 \nL 239.330924 53.335612 \nL 244.475678 53.69493 \nL 249.620431 79.612452 \nL 254.765185 52.923562 \nL 259.909939 53.736692 \nL 265.054693 53.993403 \nL 270.199447 71.130741 \nL 275.344201 52.876546 \nL 280.488954 34.041191 \nL 285.633708 91.149707 \nL 290.778462 92.05911 \nL 295.923216 92.357272 \nL 301.06797 35.68566 \nL 306.212724 99.881647 \nL 311.357477 113.229016 \nL 316.502231 106.898298 \nL 321.646985 110.48135 \nL 326.791739 55.620015 \nL 331.936493 110.580518 \nL 337.081247 67.698895 \nL 342.226 72.316115 \nL 347.370754 72.803507 \nL 352.515508 53.704239 \n\" style=\"fill:none;stroke:#1f77b4;stroke-linecap:square;stroke-width:1.5;\"/>\n   </g>\n   <g id=\"patch_3\">\n    <path d=\"M 39.2 293.203125 \nL 39.2 21.403125 \n\" style=\"fill:none;stroke:#000000;stroke-linecap:square;stroke-linejoin:miter;stroke-width:0.8;\"/>\n   </g>\n   <g id=\"patch_4\">\n    <path d=\"M 367.435294 293.203125 \nL 367.435294 21.403125 \n\" style=\"fill:none;stroke:#000000;stroke-linecap:square;stroke-linejoin:miter;stroke-width:0.8;\"/>\n   </g>\n   <g id=\"patch_5\">\n    <path d=\"M 39.2 293.203125 \nL 367.435294 293.203125 \n\" style=\"fill:none;stroke:#000000;stroke-linecap:square;stroke-linejoin:miter;stroke-width:0.8;\"/>\n   </g>\n   <g id=\"patch_6\">\n    <path d=\"M 39.2 21.403125 \nL 367.435294 21.403125 \n\" style=\"fill:none;stroke:#000000;stroke-linecap:square;stroke-linejoin:miter;stroke-width:0.8;\"/>\n   </g>\n   <g id=\"text_16\">\n    <!-- frame 12000. reward: -254.75026179077128 -->\n    <g transform=\"translate(83.317647 15.403125)scale(0.12 -0.12)\">\n     <defs>\n      <path d=\"M 44.921875 59.375 \nQ 42.96875 60.546875 40.234375 61.328125 \nQ 37.5 62.109375 33.203125 62.109375 \nQ 28.90625 62.109375 27.34375 59.953125 \nQ 25.78125 57.8125 25.78125 54.6875 \nL 25.78125 45.3125 \nL 41.796875 45.3125 \nL 41.796875 39.0625 \nL 25.78125 39.0625 \nL 25.78125 1.5625 \nL 17.96875 1.5625 \nL 17.96875 39.0625 \nL 4.6875 39.0625 \nL 4.6875 45.3125 \nL 17.96875 45.3125 \nL 17.96875 54.296875 \nQ 17.96875 61.328125 22.265625 65.234375 \nQ 26.5625 69.140625 33.59375 69.140625 \nQ 37.890625 69.140625 40.421875 68.546875 \nQ 42.96875 67.96875 44.921875 67.1875 \nz\n\" id=\"SimHei-102\"/>\n      <path d=\"M 39.453125 37.5 \nQ 32.03125 38.671875 26.953125 35.34375 \nQ 21.875 32.03125 18.359375 23.828125 \nL 18.359375 1.5625 \nL 10.546875 1.5625 \nL 10.546875 45.3125 \nL 18.359375 45.3125 \nL 18.359375 33.984375 \nQ 21.875 40.234375 27.140625 43.15625 \nQ 32.421875 46.09375 39.453125 46.09375 \nz\n\" id=\"SimHei-114\"/>\n      <path d=\"M 45.3125 1.5625 \nL 35.9375 1.5625 \nQ 35.15625 2.34375 34.765625 3.703125 \nQ 34.375 5.078125 34.375 7.03125 \nQ 31.640625 3.90625 27.734375 2.34375 \nQ 23.828125 0.78125 19.53125 0.78125 \nQ 13.28125 0.78125 8.984375 3.90625 \nQ 4.6875 7.03125 4.6875 12.890625 \nQ 4.6875 18.75 8.59375 22.265625 \nQ 12.5 25.78125 20.703125 26.953125 \nQ 26.171875 27.734375 30.265625 28.90625 \nQ 34.375 30.078125 34.375 32.03125 \nQ 34.375 34.375 32.609375 36.71875 \nQ 30.859375 39.0625 25 39.0625 \nQ 20.3125 39.0625 18.15625 37.296875 \nQ 16.015625 35.546875 15.234375 32.421875 \nL 6.640625 32.421875 \nQ 7.421875 38.671875 12.296875 42.375 \nQ 17.1875 46.09375 25 46.09375 \nQ 33.59375 46.09375 37.890625 42.1875 \nQ 42.1875 38.28125 42.1875 31.25 \nL 42.1875 9.765625 \nQ 42.1875 7.421875 42.96875 5.46875 \nQ 43.75 3.515625 45.3125 1.5625 \nz\nM 34.375 16.015625 \nL 34.375 23.828125 \nQ 32.03125 23.046875 29.875 22.453125 \nQ 27.734375 21.875 22.65625 21.09375 \nQ 16.796875 20.3125 15.03125 18.359375 \nQ 13.28125 16.40625 13.28125 13.671875 \nQ 13.28125 11.328125 15.03125 9.5625 \nQ 16.796875 7.8125 20.3125 7.8125 \nQ 23.828125 7.8125 27.921875 9.765625 \nQ 32.03125 11.71875 34.375 16.015625 \nz\n\" id=\"SimHei-97\"/>\n      <path d=\"M 48.046875 1.5625 \nL 40.234375 1.5625 \nL 40.234375 33.203125 \nQ 40.234375 35.546875 39.453125 37.109375 \nQ 38.671875 38.671875 36.328125 38.671875 \nQ 33.59375 38.671875 31.25 35.734375 \nQ 28.90625 32.8125 28.90625 28.125 \nL 28.90625 1.5625 \nL 21.09375 1.5625 \nL 21.09375 33.203125 \nQ 21.09375 35.546875 20.3125 37.109375 \nQ 19.53125 38.671875 17.1875 38.671875 \nQ 14.453125 38.671875 12.109375 35.734375 \nQ 9.765625 32.8125 9.765625 28.125 \nL 9.765625 1.5625 \nL 1.953125 1.5625 \nL 1.953125 45.3125 \nL 9.765625 45.3125 \nL 9.765625 39.453125 \nQ 11.71875 42.578125 14.453125 44.328125 \nQ 17.1875 46.09375 20.3125 46.09375 \nQ 23.4375 46.09375 25.578125 44.328125 \nQ 27.734375 42.578125 28.515625 39.453125 \nQ 30.46875 42.578125 33 44.328125 \nQ 35.546875 46.09375 38.671875 46.09375 \nQ 43.359375 46.09375 45.703125 43.546875 \nQ 48.046875 41.015625 48.046875 36.328125 \nz\n\" id=\"SimHei-109\"/>\n      <path d=\"M 44.921875 16.40625 \nQ 44.140625 9.375 38.671875 5.078125 \nQ 33.203125 0.78125 25.78125 0.78125 \nQ 16.40625 0.78125 10.34375 6.828125 \nQ 4.296875 12.890625 4.296875 23.4375 \nQ 4.296875 33.984375 10.34375 40.03125 \nQ 16.40625 46.09375 25.78125 46.09375 \nQ 33.984375 46.09375 39.25 40.8125 \nQ 44.53125 35.546875 44.53125 23.4375 \nL 12.890625 23.4375 \nQ 12.890625 14.84375 16.59375 11.328125 \nQ 20.3125 7.8125 25.78125 7.8125 \nQ 30.078125 7.8125 32.8125 9.953125 \nQ 35.546875 12.109375 36.328125 16.40625 \nz\nM 35.546875 29.6875 \nQ 34.765625 35.15625 32.03125 37.296875 \nQ 29.296875 39.453125 25 39.453125 \nQ 21.09375 39.453125 17.96875 37.296875 \nQ 14.84375 35.15625 13.28125 29.6875 \nz\n\" id=\"SimHei-101\"/>\n      <path id=\"SimHei-32\"/>\n      <path d=\"M 17.1875 1.5625 \nL 8.203125 1.5625 \nL 8.203125 10.15625 \nL 17.1875 10.15625 \nz\n\" id=\"SimHei-46\"/>\n      <path d=\"M 48.4375 45.3125 \nL 38.671875 0.78125 \nL 31.25 0.78125 \nL 25 34.765625 \nL 24.21875 34.765625 \nL 17.96875 0.78125 \nL 10.546875 0.78125 \nL 0.78125 45.3125 \nL 8.984375 45.3125 \nL 14.0625 16.015625 \nL 14.84375 16.015625 \nL 20.3125 45.3125 \nL 28.90625 45.3125 \nL 34.375 16.015625 \nL 35.15625 16.015625 \nL 40.234375 45.3125 \nz\n\" id=\"SimHei-119\"/>\n      <path d=\"M 43.359375 1.5625 \nL 35.546875 1.5625 \nL 35.546875 7.421875 \nQ 33.203125 3.90625 30.078125 2.34375 \nQ 26.953125 0.78125 22.65625 0.78125 \nQ 14.84375 0.78125 9.375 6.4375 \nQ 3.90625 12.109375 3.90625 23.4375 \nQ 3.90625 34.765625 9.375 40.625 \nQ 14.84375 46.484375 22.65625 46.484375 \nQ 26.953125 46.484375 30.078125 44.71875 \nQ 33.203125 42.96875 35.546875 39.453125 \nL 35.546875 68.359375 \nL 43.359375 68.359375 \nz\nM 35.546875 23.4375 \nQ 35.546875 30.859375 32.21875 35.15625 \nQ 28.90625 39.453125 24.21875 39.453125 \nQ 18.359375 39.453125 15.421875 35.15625 \nQ 12.5 30.859375 12.5 23.4375 \nQ 12.5 16.015625 15.421875 11.90625 \nQ 18.359375 7.8125 24.21875 7.8125 \nQ 28.90625 7.8125 32.21875 11.90625 \nQ 35.546875 16.015625 35.546875 23.4375 \nz\n\" id=\"SimHei-100\"/>\n      <path d=\"M 28.90625 37.5 \nL 19.921875 37.5 \nL 19.921875 46.09375 \nL 28.90625 46.09375 \nz\nM 28.90625 1.5625 \nL 19.921875 1.5625 \nL 19.921875 10.15625 \nL 28.90625 10.15625 \nz\n\" id=\"SimHei-58\"/>\n      <path d=\"M 43.359375 60.15625 \nL 25 1.5625 \nL 16.015625 1.5625 \nL 34.765625 60.9375 \nL 6.25 60.9375 \nL 6.25 68.359375 \nL 43.359375 68.359375 \nz\n\" id=\"SimHei-55\"/>\n      <path d=\"M 44.140625 35.9375 \nQ 44.140625 19.921875 38.46875 10.34375 \nQ 32.8125 0.78125 22.265625 0.78125 \nQ 14.84375 0.78125 10.34375 6.25 \nQ 5.859375 11.71875 5.859375 18.359375 \nL 14.84375 18.359375 \nQ 14.84375 14.453125 16.984375 11.328125 \nQ 19.140625 8.203125 22.65625 8.203125 \nQ 28.515625 8.203125 31.4375 14.84375 \nQ 34.375 21.484375 35.15625 34.375 \nQ 33.203125 30.078125 29.6875 27.734375 \nQ 26.171875 25.390625 21.875 25.390625 \nQ 14.453125 25.390625 9.765625 30.859375 \nQ 5.078125 36.328125 5.078125 46.484375 \nQ 5.078125 56.640625 9.765625 62.890625 \nQ 14.453125 69.140625 23.828125 69.140625 \nQ 33.203125 69.140625 38.671875 61.328125 \nQ 44.140625 53.515625 44.140625 35.9375 \nz\nM 34.375 44.921875 \nQ 34.375 53.515625 31.4375 57.8125 \nQ 28.515625 62.109375 23.4375 62.109375 \nQ 19.921875 62.109375 17.1875 58.78125 \nQ 14.453125 55.46875 14.453125 46.484375 \nQ 14.453125 39.84375 16.59375 36.125 \nQ 18.75 32.421875 23.4375 32.421875 \nQ 28.515625 32.421875 31.4375 35.9375 \nQ 34.375 39.453125 34.375 44.921875 \nz\n\" id=\"SimHei-57\"/>\n     </defs>\n     <use xlink:href=\"#SimHei-102\"/>\n     <use x=\"50\" xlink:href=\"#SimHei-114\"/>\n     <use x=\"100\" xlink:href=\"#SimHei-97\"/>\n     <use x=\"150\" xlink:href=\"#SimHei-109\"/>\n     <use x=\"200\" xlink:href=\"#SimHei-101\"/>\n     <use x=\"250\" xlink:href=\"#SimHei-32\"/>\n     <use x=\"300\" xlink:href=\"#SimHei-49\"/>\n     <use x=\"350\" xlink:href=\"#SimHei-50\"/>\n     <use x=\"400\" xlink:href=\"#SimHei-48\"/>\n     <use x=\"450\" xlink:href=\"#SimHei-48\"/>\n     <use x=\"500\" xlink:href=\"#SimHei-48\"/>\n     <use x=\"550\" xlink:href=\"#SimHei-46\"/>\n     <use x=\"600\" xlink:href=\"#SimHei-32\"/>\n     <use x=\"650\" xlink:href=\"#SimHei-114\"/>\n     <use x=\"700\" xlink:href=\"#SimHei-101\"/>\n     <use x=\"750\" xlink:href=\"#SimHei-119\"/>\n     <use x=\"800\" xlink:href=\"#SimHei-97\"/>\n     <use x=\"850\" xlink:href=\"#SimHei-114\"/>\n     <use x=\"900\" xlink:href=\"#SimHei-100\"/>\n     <use x=\"950\" xlink:href=\"#SimHei-58\"/>\n     <use x=\"1000\" xlink:href=\"#SimHei-32\"/>\n     <use x=\"1050\" xlink:href=\"#SimHei-45\"/>\n     <use x=\"1100\" xlink:href=\"#SimHei-50\"/>\n     <use x=\"1150\" xlink:href=\"#SimHei-53\"/>\n     <use x=\"1200\" xlink:href=\"#SimHei-52\"/>\n     <use x=\"1250\" xlink:href=\"#SimHei-46\"/>\n     <use x=\"1300\" xlink:href=\"#SimHei-55\"/>\n     <use x=\"1350\" xlink:href=\"#SimHei-53\"/>\n     <use x=\"1400\" xlink:href=\"#SimHei-48\"/>\n     <use x=\"1450\" xlink:href=\"#SimHei-50\"/>\n     <use x=\"1500\" xlink:href=\"#SimHei-54\"/>\n     <use x=\"1550\" xlink:href=\"#SimHei-49\"/>\n     <use x=\"1600\" xlink:href=\"#SimHei-55\"/>\n     <use x=\"1650\" xlink:href=\"#SimHei-57\"/>\n     <use x=\"1700\" xlink:href=\"#SimHei-48\"/>\n     <use x=\"1750\" xlink:href=\"#SimHei-55\"/>\n     <use x=\"1800\" xlink:href=\"#SimHei-55\"/>\n     <use x=\"1850\" xlink:href=\"#SimHei-49\"/>\n     <use x=\"1900\" xlink:href=\"#SimHei-50\"/>\n     <use x=\"1950\" xlink:href=\"#SimHei-56\"/>\n    </g>\n   </g>\n  </g>\n </g>\n <defs>\n  <clipPath id=\"p9632e29c9e\">\n   <rect height=\"271.8\" width=\"328.235294\" x=\"39.2\" y=\"21.403125\"/>\n  </clipPath>\n </defs>\n</svg>\n",
      "image/png": "[encoded data removed]"
     },
     "metadata": {
      "needs_background": "light"
     }
    }
   ],
   "source": [
    "import time\n",
    "train_time = []\n",
    "while frame_idx < max_frames:\n",
    "    state = env.reset()\n",
    "    ou_noise.reset()\n",
    "    episode_reward = 0\n",
    "    \n",
    "    for step in range(max_steps):\n",
    "        action = policy_net.get_action(state)\n",
    "        action = ou_noise.get_action(action, step)\n",
    "        next_state, reward, done, _ = env.step(action)\n",
    "        \n",
    "        replay_buffer.push(state, action, reward, next_state, done)\n",
    "        if len(replay_buffer) > batch_size:\n",
    "            s = time.time()\n",
    "            ddpg_update(batch_size)\n",
    "            e = time.time()\n",
    "            train_time.append(e-s)\n",
    "            # print()\n",
    "        \n",
    "        state = next_state\n",
    "        episode_reward += reward\n",
    "        frame_idx += 1\n",
    "        \n",
    "        if frame_idx % max(1000, max_steps + 1) == 0:\n",
    "            plot(frame_idx, rewards)\n",
    "        \n",
    "        if done:\n",
    "            break\n",
    "    \n",
    "    rewards.append(episode_reward)"
   ]
  },
  {
   "cell_type": "code",
   "execution_count": 38,
   "metadata": {
    "tags": [
     "outputPrepend"
    ]
   },
   "outputs": [
    {
     "output_type": "stream",
     "name": "stdout",
     "text": [
      "0.008688926696777344, 0.008508920669555664, 0.009371757507324219, 0.008664846420288086, 0.008568048477172852, 0.008157014846801758, 0.008304119110107422, 0.008285999298095703, 0.008315086364746094, 0.008121728897094727, 0.008616924285888672, 0.008450984954833984, 0.008259057998657227, 0.008682966232299805, 0.007962226867675781, 0.008867740631103516, 0.008728981018066406, 0.009061098098754883, 0.009407997131347656, 0.009475946426391602, 0.010035991668701172, 0.008398056030273438, 0.010087966918945312, 0.0093841552734375, 0.009717941284179688, 0.008680105209350586, 0.00812077522277832, 0.008470773696899414, 0.00810098648071289, 0.008548736572265625, 0.008695125579833984, 0.008341073989868164, 0.008086919784545898, 0.008311033248901367, 0.008169889450073242, 0.00861811637878418, 0.007945060729980469, 0.008285045623779297, 0.009225130081176758, 0.008385896682739258, 0.00813913345336914, 0.00846099853515625, 0.008791208267211914, 0.00843191146850586, 0.009154081344604492, 0.008185148239135742, 0.00828409194946289, 0.008202075958251953, 0.008297920227050781, 0.00830984115600586, 0.009091854095458984, 0.009025812149047852, 0.008736848831176758, 0.009012937545776367, 0.00825810432434082, 0.008562803268432617, 0.007904052734375, 0.008308172225952148, 0.008141756057739258, 0.008515119552612305, 0.008022069931030273, 0.008887052536010742, 0.008197307586669922, 0.008945941925048828, 0.007827997207641602, 0.008368968963623047, 0.007938861846923828, 0.008880138397216797, 0.00835418701171875, 0.008816003799438477, 0.008299112319946289, 0.008378982543945312, 0.007870912551879883, 0.007866859436035156, 0.00856924057006836, 0.00851893424987793, 0.008405923843383789, 0.008558988571166992, 0.009637832641601562, 0.008540868759155273, 0.009234905242919922, 0.008301019668579102, 0.009048938751220703, 0.008536100387573242, 0.008161783218383789, 0.008475065231323242, 0.00877690315246582, 0.00852513313293457, 0.008643865585327148, 0.009634017944335938, 0.008931159973144531, 0.011052131652832031, 0.010751008987426758, 0.009052276611328125, 0.009870767593383789, 0.008574962615966797, 0.009109735488891602, 0.008786916732788086, 0.008116960525512695, 0.009289264678955078, 0.00825810432434082, 0.008414268493652344, 0.007962942123413086, 0.008361339569091797, 0.008533000946044922, 0.009061813354492188, 0.00922703742980957, 0.00840902328491211, 0.008205890655517578, 0.008348941802978516, 0.008470773696899414, 0.008563995361328125, 0.009423971176147461, 0.009160995483398438, 0.00914907455444336, 0.008561134338378906, 0.009377002716064453, 0.009401082992553711, 0.008610010147094727, 0.008671045303344727, 0.008244991302490234, 0.008728981018066406, 0.008247137069702148, 0.009030818939208984, 0.008526086807250977, 0.008417129516601562, 0.008206844329833984, 0.009007930755615234, 0.0087890625, 0.009359121322631836, 0.008216142654418945, 0.008305072784423828, 0.010419130325317383, 0.009064912796020508, 0.00978398323059082, 0.009037017822265625, 0.00874781608581543, 0.009155988693237305, 0.008889913558959961, 0.008997917175292969, 0.008036136627197266, 0.008616924285888672, 0.007851123809814453, 0.008598089218139648, 0.008104085922241211, 0.009337186813354492, 0.008158206939697266, 0.008060932159423828, 0.008208751678466797, 0.008495092391967773, 0.008989334106445312, 0.00894618034362793, 0.013106822967529297, 0.009795188903808594, 0.008276939392089844, 0.008985757827758789, 0.00846409797668457, 0.008834123611450195, 0.00870513916015625, 0.008207082748413086, 0.008172750473022461, 0.008642196655273438, 0.008201122283935547, 0.008533000946044922, 0.008037090301513672, 0.00830984115600586, 0.008762836456298828, 0.00878000259399414, 0.009126901626586914, 0.00855875015258789, 0.00958395004272461, 0.00826716423034668, 0.008584022521972656, 0.00870203971862793, 0.008557796478271484, 0.008416891098022461, 0.008414030075073242, 0.00913095474243164, 0.008472919464111328, 0.008271932601928711, 0.008580207824707031, 0.008568048477172852, 0.0077440738677978516, 0.008633852005004883, 0.00810098648071289, 0.008105993270874023, 0.00902700424194336, 0.009901046752929688, 0.008864164352416992, 0.008691072463989258, 0.00864100456237793, 0.008162975311279297, 0.008949041366577148, 0.008350372314453125, 0.00880885124206543, 0.008026838302612305, 0.008203744888305664, 0.00814199447631836, 0.007959127426147461, 0.007812976837158203, 0.008265972137451172, 0.0077419281005859375, 0.007781028747558594, 0.007838964462280273, 0.008033037185668945, 0.007882118225097656, 0.008733987808227539, 0.00821995735168457, 0.008101940155029297, 0.007876157760620117, 0.008311033248901367, 0.008552789688110352, 0.00798487663269043, 0.007944822311401367, 0.007893085479736328, 0.007791042327880859, 0.0078887939453125, 0.008213996887207031, 0.008223772048950195, 0.008029937744140625, 0.008804082870483398, 0.008680105209350586, 0.008540868759155273, 0.008844137191772461, 0.008198022842407227, 0.009598970413208008, 0.008748054504394531, 0.009477853775024414, 0.009515047073364258, 0.009721755981445312, 0.009449958801269531, 0.008398771286010742, 0.008567094802856445, 0.008191823959350586, 0.008763790130615234, 0.008076906204223633, 0.008589744567871094, 0.00819706916809082, 0.008599996566772461, 0.008778095245361328, 0.008546829223632812, 0.008304119110107422, 0.008085012435913086, 0.010165929794311523, 0.009210824966430664, 0.008955240249633789, 0.007968902587890625, 0.008448123931884766, 0.008582115173339844, 0.008937835693359375, 0.009289979934692383, 0.007993698120117188, 0.008646011352539062, 0.00826716423034668, 0.009440898895263672, 0.009613037109375, 0.009196043014526367, 0.008404254913330078, 0.00896596908569336, 0.009541749954223633, 0.008772134780883789, 0.00900578498840332, 0.00815892219543457, 0.008614778518676758, 0.008249282836914062, 0.008646965026855469, 0.008396148681640625, 0.008194208145141602, 0.007960081100463867, 0.008399009704589844, 0.008464813232421875, 0.008506059646606445, 0.00896000862121582, 0.009130001068115234, 0.009154796600341797, 0.008481025695800781, 0.00882577896118164, 0.008143901824951172, 0.008442163467407227, 0.008204936981201172, 0.00842905044555664, 0.008218050003051758, 0.00816798210144043, 0.008305788040161133, 0.008307218551635742, 0.008543014526367188, 0.008487224578857422, 0.008055925369262695, 0.008233070373535156, 0.009382963180541992, 0.008558988571166992, 0.008556842803955078, 0.008099794387817383, 0.00987696647644043, 0.007977962493896484, 0.008544206619262695, 0.007997989654541016, 0.007922172546386719, 0.00849294662475586, 0.008021831512451172, 0.008133888244628906, 0.008183956146240234, 0.008648157119750977, 0.008179903030395508, 0.008302927017211914, 0.008092880249023438, 0.009032011032104492, 0.008222341537475586, 0.00942087173461914, 0.008363962173461914, 0.008222103118896484, 0.007896184921264648, 0.008036136627197266, 0.008296012878417969, 0.007862091064453125, 0.007833003997802734, 0.00857400894165039, 0.008591175079345703, 0.009373903274536133, 0.009134054183959961, 0.008902311325073242, 0.0100860595703125, 0.00935983657836914, 0.008552074432373047, 0.008630037307739258, 0.00817108154296875, 0.008193731307983398, 0.008225202560424805, 0.008954286575317383, 0.008419990539550781, 0.010062694549560547, 0.008870840072631836, 0.008900880813598633, 0.008343935012817383, 0.008700847625732422, 0.00821828842163086, 0.008505821228027344, 0.00850367546081543, 0.00847482681274414, 0.009401082992553711, 0.008172988891601562, 0.00864410400390625, 0.008069276809692383, 0.008296966552734375, 0.008038759231567383, 0.008323907852172852, 0.007977962493896484, 0.007862091064453125, 0.007932901382446289, 0.008538961410522461, 0.008314847946166992, 0.009163141250610352, 0.008241891860961914, 0.008479833602905273, 0.009759902954101562, 0.00837087631225586, 0.009416818618774414, 0.008037090301513672, 0.008083105087280273, 0.008279085159301758, 0.008787870407104492, 0.008840084075927734, 0.009321928024291992, 0.008772850036621094, 0.008300065994262695, 0.009193897247314453, 0.008831977844238281, 0.008805274963378906, 0.008833885192871094, 0.009608983993530273, 0.011912107467651367, 0.009317159652709961, 0.011262178421020508, 0.013365983963012695, 0.009670019149780273, 0.009887933731079102, 0.01300191879272461, 0.009211063385009766, 0.009969234466552734, 0.011565685272216797, 0.010898828506469727, 0.011973857879638672, 0.009891271591186523, 0.009521245956420898, 0.01043701171875, 0.009694099426269531, 0.008437633514404297, 0.008208274841308594, 0.008043050765991211, 0.008729696273803711, 0.008339881896972656, 0.008661985397338867, 0.008041143417358398, 0.008269071578979492, 0.007795095443725586, 0.00861501693725586, 0.008361101150512695, 0.009412050247192383, 0.008334875106811523, 0.008280038833618164, 0.008674144744873047, 0.008382320404052734, 0.008606910705566406, 0.008136987686157227, 0.008209228515625, 0.008183956146240234, 0.008978128433227539, 0.008260250091552734, 0.008498907089233398, 0.008034229278564453, 0.008184194564819336, 0.008304834365844727, 0.00840902328491211, 0.008015871047973633, 0.008296966552734375, 0.008124113082885742, 0.008297204971313477, 0.008260726928710938, 0.00828099250793457, 0.008643865585327148, 0.008603096008300781, 0.008803844451904297, 0.008527755737304688, 0.00913095474243164, 0.008410930633544922, 0.009005069732666016, 0.008444786071777344, 0.00842595100402832, 0.008720159530639648, 0.00820302963256836, 0.008647918701171875, 0.009689092636108398, 0.00860595703125, 0.008285045623779297, 0.008791208267211914, 0.00830984115600586, 0.008554935455322266, 0.008798360824584961, 0.013046026229858398, 0.010516881942749023, 0.009325981140136719, 0.009412050247192383, 0.009698867797851562, 0.008973121643066406, 0.01026296615600586, 0.00997304916381836, 0.00908517837524414, 0.009149789810180664, 0.008148908615112305, 0.008519887924194336, 0.008152246475219727, 0.008858919143676758, 0.008130073547363281, 0.008338212966918945, 0.007959842681884766, 0.008769035339355469, 0.008283138275146484, 0.008630752563476562, 0.00826406478881836, 0.008209228515625, 0.00879216194152832, 0.008303165435791016, 0.00899815559387207, 0.008259057998657227, 0.008475303649902344, 0.008003950119018555, 0.00867915153503418, 0.008471012115478516, 0.00860595703125, 0.008188009262084961, 0.00843191146850586, 0.008252859115600586, 0.008412837982177734, 0.008523941040039062, 0.008545875549316406, 0.008159875869750977, 0.008147001266479492, 0.008213043212890625, 0.008311033248901367, 0.008713006973266602, 0.00863790512084961, 0.008806228637695312, 0.00816798210144043, 0.011097192764282227, 0.008072853088378906, 0.008663177490234375, 0.00821995735168457, 0.008318901062011719, 0.00838923454284668, 0.008401155471801758, 0.008278846740722656, 0.00811910629272461, 0.008166790008544922, 0.00806117057800293, 0.008466958999633789, 0.008475780487060547, 0.008651971817016602, 0.008149147033691406, 0.00816798210144043, 0.008140087127685547, 0.008388996124267578, 0.008404970169067383, 0.008515119552612305, 0.008175849914550781, 0.007972955703735352, 0.008048772811889648, 0.008226871490478516, 0.008396148681640625, 0.008269786834716797, 0.008255958557128906, 0.008161067962646484, 0.008557796478271484, 0.008076906204223633, 0.008273839950561523, 0.007927179336547852, 0.008264780044555664, 0.008140087127685547, 0.0087738037109375, 0.008491992950439453, 0.00848388671875, 0.00833892822265625, 0.008446216583251953, 0.008410930633544922, 0.008327960968017578, 0.008405923843383789, 0.00856781005859375, 0.008247852325439453, 0.008186101913452148, 0.008134841918945312, 0.008321046829223633, 0.00820779800415039, 0.008486270904541016, 0.00843501091003418, 0.008103370666503906, 0.008611202239990234, 0.008256912231445312, 0.008859872817993164, 0.008606910705566406, 0.008714914321899414, 0.008339881896972656, 0.008450031280517578, 0.008379936218261719, 0.008538007736206055, 0.008173704147338867, 0.008265972137451172, 0.008270025253295898, 0.008376836776733398, 0.008664131164550781, 0.008339166641235352, 0.008303165435791016, 0.008335113525390625, 0.008337974548339844, 0.008126974105834961, 0.011675834655761719, 0.008925199508666992, 0.009741067886352539, 0.008713960647583008, 0.009297847747802734, 0.009278059005737305, 0.008708000183105469, 0.008468866348266602, 0.008870124816894531, 0.009518861770629883, 0.011080026626586914, 0.010374069213867188, 0.013816118240356445, 0.011820077896118164, 0.009550809860229492, 0.00909113883972168, 0.00872492790222168, 0.008986949920654297, 0.009565114974975586, 0.008152961730957031, 0.008259057998657227, 0.008028030395507812, 0.008153200149536133, 0.00848698616027832, 0.008461952209472656, 0.0085906982421875, 0.008612871170043945, 0.008278131484985352, 0.008531808853149414, 0.00825810432434082, 0.00836801528930664, 0.008814811706542969, 0.008248090744018555, 0.008278846740722656, 0.008243799209594727, 0.008280038833618164, 0.008250236511230469, 0.008359909057617188, 0.00828695297241211, 0.008230924606323242, 0.009057998657226562, 0.009336233139038086, 0.00878000259399414, 0.008610010147094727, 0.008696794509887695, 0.008221149444580078, 0.00864100456237793, 0.008335113525390625, 0.008247613906860352, 0.008430004119873047, 0.008009195327758789, 0.008081912994384766, 0.008656024932861328, 0.00864100456237793, 0.009279012680053711, 0.008717060089111328, 0.009071826934814453, 0.009389638900756836, 0.009229660034179688, 0.00876307487487793, 0.008156776428222656, 0.008235931396484375, 0.008143901824951172, 0.008109092712402344, 0.007983922958374023, 0.00831913948059082, 0.008108139038085938, 0.008069992065429688, 0.008435964584350586, 0.008081197738647461, 0.008375167846679688, 0.008430004119873047, 0.008366107940673828, 0.00814676284790039, 0.008703947067260742, 0.008249044418334961, 0.008772850036621094, 0.008035898208618164, 0.008260011672973633, 0.008255958557128906, 0.008366107940673828, 0.008077144622802734, 0.008508920669555664, 0.00826406478881836, 0.008140087127685547, 0.008124113082885742, 0.008170127868652344, 0.008437871932983398, 0.008549928665161133, 0.008208751678466797, 0.008324146270751953, 0.008585929870605469, 0.008195877075195312, 0.008832216262817383, 0.008350133895874023, 0.008510828018188477, 0.008846759796142578, 0.008871078491210938, 0.008709907531738281, 0.008571863174438477, 0.008529901504516602, 0.008506059646606445, 0.008589029312133789, 0.008527994155883789, 0.009041070938110352, 0.008729219436645508, 0.008523941040039062, 0.008656740188598633, 0.00859212875366211, 0.008582115173339844, 0.008618354797363281, 0.008584976196289062, 0.008462190628051758, 0.008694171905517578, 0.008669853210449219, 0.00883626937866211, 0.008638858795166016, 0.008539915084838867, 0.008559942245483398, 0.008615970611572266, 0.008734941482543945, 0.009238004684448242, 0.008919954299926758, 0.008459091186523438, 0.008792877197265625, 0.008585929870605469, 0.008875131607055664, 0.008614063262939453, 0.008460044860839844, 0.009046077728271484, 0.010547399520874023, 0.009016990661621094, 0.009293079376220703, 0.008734941482543945, 0.00857400894165039, 0.010123014450073242, 0.009149312973022461, 0.009389877319335938, 0.009199857711791992, 0.008666753768920898, 0.010116100311279297, 0.00863790512084961, 0.008660078048706055, 0.008383989334106445, 0.008224010467529297, 0.008410930633544922, 0.008861064910888672, 0.008716106414794922, 0.008440017700195312, 0.009179830551147461, 0.008581876754760742, 0.009292125701904297, 0.008537054061889648, 0.008990764617919922, 0.008800983428955078, 0.008778095245361328, 0.008613109588623047, 0.009032964706420898, 0.009372234344482422, 0.00867915153503418, 0.009193897247314453, 0.0089111328125, 0.008838891983032227, 0.00902104377746582, 0.008934974670410156, 0.008829832077026367, 0.008916854858398438, 0.009422063827514648, 0.008701086044311523, 0.009277105331420898, 0.00860905647277832, 0.008870840072631836, 0.009590864181518555, 0.008668184280395508, 0.009041309356689453, 0.008327960968017578, 0.00919795036315918, 0.00857090950012207, 0.008984088897705078, 0.00852203369140625, 0.008417129516601562, 0.008521080017089844, 0.008398056030273438, 0.009283065795898438, 0.008539199829101562, 0.008687734603881836, 0.008282184600830078, 0.008224010467529297, 0.008306264877319336, 0.00855708122253418, 0.008365154266357422, 0.00875711441040039, 0.00896596908569336, 0.009053945541381836, 0.009727954864501953, 0.008712053298950195, 0.009095191955566406, 0.008845806121826172, 0.008887052536010742, 0.008661031723022461, 0.008899688720703125, 0.00918722152709961, 0.008524179458618164, 0.009133100509643555, 0.008641719818115234, 0.009422779083251953, 0.008749008178710938, 0.008992195129394531, 0.008886098861694336, 0.008604049682617188, 0.009519100189208984, 0.00935506820678711, 0.009627103805541992, 0.008903026580810547, 0.00875091552734375, 0.008891820907592773, 0.008809089660644531, 0.00888514518737793, 0.0087890625, 0.00868988037109375, 0.008383035659790039, 0.008785009384155273, 0.008636951446533203, 0.009100198745727539, 0.008745908737182617, 0.008472919464111328, 0.00880575180053711, 0.008666276931762695, 0.009571075439453125, 0.008827924728393555, 0.008848905563354492, 0.008340835571289062, 0.009435892105102539, 0.009063005447387695, 0.008918046951293945, 0.008986234664916992, 0.009233951568603516, 0.010709047317504883, 0.009034872055053711, 0.009483098983764648, 0.009196996688842773, 0.008629083633422852, 0.009777069091796875, 0.009001970291137695, 0.009629964828491211, 0.00848388671875, 0.009048223495483398, 0.00907588005065918, 0.009244918823242188, 0.009341955184936523, 0.008350849151611328, 0.00857400894165039, 0.00836801528930664, 0.008292198181152344, 0.009060144424438477, 0.008865118026733398, 0.008423805236816406, 0.008944034576416016, 0.009174108505249023, 0.008872032165527344, 0.009279966354370117, 0.00871896743774414, 0.00855398178100586, 0.009373903274536133, 0.008543968200683594, 0.00986790657043457, 0.008875131607055664, 0.009596109390258789, 0.008819341659545898, 0.008702993392944336, 0.009128093719482422, 0.008611917495727539, 0.00881505012512207, 0.00882411003112793, 0.009384870529174805, 0.008402824401855469, 0.009408950805664062, 0.008655786514282227, 0.008909940719604492, 0.009876012802124023, 0.009068965911865234, 0.008865118026733398, 0.008526086807250977, 0.008873939514160156, 0.008622169494628906, 0.008745908737182617, 0.008681058883666992, 0.0089569091796875, 0.008867979049682617, 0.00864100456237793, 0.011066675186157227, 0.009179830551147461, 0.009401082992553711, 0.009185075759887695, 0.008419990539550781, 0.009219884872436523, 0.00868082046508789, 0.009654998779296875, 0.009290933609008789, 0.008546113967895508, 0.008588075637817383, 0.008678913116455078, 0.008920669555664062, 0.008713960647583008, 0.008540153503417969, 0.008471012115478516, 0.008769035339355469, 0.008614778518676758, 0.009270191192626953, 0.010415077209472656, 0.009692192077636719, 0.042180776596069336, 0.015308856964111328, 0.009463071823120117, 0.009499788284301758, 0.008873939514160156, 0.00849294662475586, 0.008900165557861328, 0.008672714233398438, 0.009528875350952148, 0.008962154388427734, 0.008903980255126953, 0.008388996124267578, 0.009493112564086914, 0.008954048156738281, 0.008826017379760742, 0.009311914443969727, 0.00946187973022461, 0.010078907012939453, 0.009268045425415039, 0.009660005569458008, 0.009949207305908203, 0.009248018264770508, 0.009919166564941406, 0.009129047393798828, 0.009409189224243164, 0.009778976440429688, 0.009252071380615234, 0.010725975036621094, 0.00952005386352539, 0.010505914688110352, 0.010328054428100586, 0.010426759719848633, 0.009321928024291992, 0.00938868522644043, 0.009526968002319336, 0.009811878204345703, 0.009562015533447266, 0.009539127349853516, 0.010023117065429688, 0.009389162063598633, 0.008611917495727539, 0.009043216705322266, 0.00897979736328125, 0.009286880493164062, 0.009055137634277344, 0.009489059448242188, 0.008860349655151367, 0.008620023727416992, 0.009124279022216797, 0.00911712646484375, 0.009251117706298828, 0.009247303009033203, 0.010025978088378906] 0.008958823517005077\n"
     ]
    }
   ],
   "source": [
    "# print(train_time,np.mean(train_time))"
   ]
  },
  {
   "cell_type": "code",
   "execution_count": 39,
   "metadata": {},
   "outputs": [
    {
     "output_type": "stream",
     "name": "stderr",
     "text": [
      "/Users/vincent/.pyenv/versions/torch_3.6.3/lib/python3.6/site-packages/torch/nn/functional.py:1628: UserWarning: nn.functional.tanh is deprecated. Use torch.tanh instead.\n",
      "  warnings.warn(\"nn.functional.tanh is deprecated. Use torch.tanh instead.\")\n",
      "0.00017200446128845214\n"
     ]
    }
   ],
   "source": [
    "# predict_time = []\n",
    "# for _ in range(1000):        \n",
    "#     state = env.reset()\n",
    "#     s = time.time()\n",
    "#     action = policy_net.get_action(state)\n",
    "#     e = time.time()\n",
    "#     predict_time.append(e-s)\n",
    "# print(np.mean(predict_time))"
   ]
  },
  {
   "cell_type": "code",
   "execution_count": null,
   "metadata": {},
   "outputs": [],
   "source": []
  }
 ],
 "metadata": {
  "kernelspec": {
   "name": "python363jvsc74a57bd07a29bcb23a0ab4b628de1ef28bf000c8e312015eb828f1870c9d55726cf27100",
   "display_name": "Python 3.6.3 64-bit ('torch_3.6.3': pyenv)"
  },
  "language_info": {
   "codemirror_mode": {
    "name": "ipython",
    "version": 3
   },
   "file_extension": ".py",
   "mimetype": "text/x-python",
   "name": "python",
   "nbconvert_exporter": "python",
   "pygments_lexer": "ipython3",
   "version": "3.6.3"
  }
 },
 "nbformat": 4,
 "nbformat_minor": 2
}